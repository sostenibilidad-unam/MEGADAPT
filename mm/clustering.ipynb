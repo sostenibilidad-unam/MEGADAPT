{
 "cells": [
  {
   "cell_type": "markdown",
   "metadata": {
    "deletable": true,
    "editable": true
   },
   "source": [
    "# Ego clustering\n",
    "\n",
    "By comparing the mental models of egos we determine how similar they are amongst each other."
   ]
  },
  {
   "cell_type": "code",
   "execution_count": 1,
   "metadata": {
    "collapsed": false,
    "deletable": true,
    "editable": true
   },
   "outputs": [
    {
     "ename": "ValueError",
     "evalue": "need more than 1 value to unpack",
     "output_type": "error",
     "traceback": [
      "\u001b[0;31m---------------------------------------------------------------------------\u001b[0m",
      "\u001b[0;31mValueError\u001b[0m                                Traceback (most recent call last)",
      "\u001b[0;32m<ipython-input-1-98ccbcf39827>\u001b[0m in \u001b[0;36m<module>\u001b[0;34m()\u001b[0m\n\u001b[1;32m     16\u001b[0m     \u001b[0;31m# each row contains edges for each ego\u001b[0m\u001b[0;34m\u001b[0m\u001b[0;34m\u001b[0m\u001b[0m\n\u001b[1;32m     17\u001b[0m     \u001b[0;32mfor\u001b[0m \u001b[0mrow\u001b[0m \u001b[0;32min\u001b[0m \u001b[0mreader\u001b[0m\u001b[0;34m:\u001b[0m\u001b[0;34m\u001b[0m\u001b[0m\n\u001b[0;32m---> 18\u001b[0;31m         \u001b[0mego\u001b[0m\u001b[0;34m,\u001b[0m \u001b[0ms\u001b[0m\u001b[0;34m,\u001b[0m \u001b[0mt\u001b[0m \u001b[0;34m=\u001b[0m \u001b[0mrow\u001b[0m\u001b[0;34m\u001b[0m\u001b[0m\n\u001b[0m\u001b[1;32m     19\u001b[0m \u001b[0;34m\u001b[0m\u001b[0m\n\u001b[1;32m     20\u001b[0m         \u001b[0;32mif\u001b[0m \u001b[0mego\u001b[0m \u001b[0;32mnot\u001b[0m \u001b[0;32min\u001b[0m \u001b[0mmmodel\u001b[0m\u001b[0;34m:\u001b[0m\u001b[0;34m\u001b[0m\u001b[0m\n",
      "\u001b[0;31mValueError\u001b[0m: need more than 1 value to unpack"
     ]
    }
   ],
   "source": [
    "import csv\n",
    "import networkx as nx\n",
    "import matplotlib\n",
    "import matplotlib.pyplot as plt\n",
    "%matplotlib inline\n",
    "\n",
    "# a dictionary, keys will be egos, values will\n",
    "# be networks that represent their mental models\n",
    "mmodel = {}\n",
    "\n",
    "# All mental models for Xochimilco are merged\n",
    "# in a single CSV file\n",
    "with open('maps_merged.csv') as f:\n",
    "    reader = csv.reader(f)\n",
    "\n",
    "    # each row contains edges for each ego\n",
    "    for row in reader:\n",
    "        ego, s, t = row\n",
    "        \n",
    "        if ego not in mmodel:\n",
    "            mmodel[ego] = nx.DiGraph()\n",
    "\n",
    "            \n",
    "        mmodel[ego].add_edge(s, t)"
   ]
  },
  {
   "cell_type": "markdown",
   "metadata": {
    "deletable": true,
    "editable": true
   },
   "source": [
    "Mental-model networks are loaded into this dictionary."
   ]
  },
  {
   "cell_type": "code",
   "execution_count": 2,
   "metadata": {
    "collapsed": false,
    "deletable": true,
    "editable": true
   },
   "outputs": [
    {
     "data": {
      "text/plain": [
       "dict_keys(['X051615_GOV', 'sangregorio', 'zonacerril', 'X050615a_GOV', 'X052515_OTR', 'X042315_GOV_2', 'X022415_GOV', 'X050715b_GOV', 'X011915_GOV', 'X050715a_GOV', 'X050115_GOV', 'X050615b_GOV', 'pescadores'])"
      ]
     },
     "execution_count": 2,
     "metadata": {},
     "output_type": "execute_result"
    }
   ],
   "source": [
    "mmodel.keys()"
   ]
  },
  {
   "cell_type": "markdown",
   "metadata": {
    "deletable": true,
    "editable": true
   },
   "source": [
    "## Jaccard Index\n",
    "\n",
    "The Jaccard coefficient measures similarity between sets, and is defined as the size of the intersection divided by the size of the union of the sample sets."
   ]
  },
  {
   "cell_type": "code",
   "execution_count": 3,
   "metadata": {
    "collapsed": false,
    "deletable": true,
    "editable": true
   },
   "outputs": [],
   "source": [
    "def jaccard_index(first, *others):\n",
    "    \"\"\" Computes jaccard index \"\"\"\n",
    "    return float(len(first.intersection(*others))) \\\n",
    "            / float(len(first.union(*others)))"
   ]
  },
  {
   "cell_type": "markdown",
   "metadata": {
    "deletable": true,
    "editable": true
   },
   "source": [
    "## Pairwise comparisons\n",
    "\n",
    "We will compute a Jaccard Index of similarity between the mental models of each pair of egos."
   ]
  },
  {
   "cell_type": "code",
   "execution_count": 8,
   "metadata": {
    "collapsed": false,
    "deletable": true,
    "editable": true
   },
   "outputs": [
    {
     "data": {
      "text/plain": [
       "0.04878048780487805"
      ]
     },
     "execution_count": 8,
     "metadata": {},
     "output_type": "execute_result"
    }
   ],
   "source": [
    "from itertools import combinations\n",
    "    \n",
    "jinxes = {pair: jaccard_index(set(mmodel[pair[0]].edges()),\n",
    "                              set(mmodel[pair[1]].edges()))\n",
    "          for pair in combinations(mmodel.keys(), 2)}    \n",
    "\n",
    "# any pair yields a number between 0 and 1\n",
    "jinxes[('sangregorio', 'pescadores')]"
   ]
  },
  {
   "cell_type": "markdown",
   "metadata": {
    "collapsed": true,
    "deletable": true,
    "editable": true
   },
   "source": [
    "## Clustering and heatmap\n",
    "\n",
    "All egos seem very different judging by their mental models."
   ]
  },
  {
   "cell_type": "code",
   "execution_count": 10,
   "metadata": {
    "collapsed": true,
    "deletable": true,
    "editable": true
   },
   "outputs": [],
   "source": [
    "import pandas as pd\n",
    "import seaborn as sns\n",
    "\n",
    "# turn the dictionary of pairs into a matrix\n",
    "rows = []\n",
    "for i in sorted(mmodel.keys()):\n",
    "    row = []\n",
    "    for j in sorted(mmodel.keys()):\n",
    "        row.append(jinxes.get((i, j), jinxes.get((j, i), 1)))\n",
    "    rows.append(row)"
   ]
  },
  {
   "cell_type": "code",
   "execution_count": 13,
   "metadata": {
    "collapsed": false,
    "deletable": true,
    "editable": true
   },
   "outputs": [
    {
     "data": {
      "image/png": "[encoded data removed]",
      "text/plain": [
       "<matplotlib.figure.Figure at 0x7f5b9408ea90>"
      ]
     },
     "metadata": {},
     "output_type": "display_data"
    }
   ],
   "source": [
    "# create a dataframe from 'rows' matrix\n",
    "df = pd.DataFrame(data=rows, columns=sorted(mmodel.keys()))\n",
    "\n",
    "# setup a colormap\n",
    "cmap = sns.cubehelix_palette(3, start=0.5, rot=-.75,\n",
    "                             dark=0.1, light=0.9,\n",
    "                             reverse=True, as_cmap=True)\n",
    "# create plot\n",
    "cg = sns.clustermap(df, standard_scale=1, cmap=cmap,\n",
    "                            yticklabels=sorted(mmodel.keys()))"
   ]
  }
 ],
 "metadata": {
  "kernelspec": {
   "display_name": "Python 3",
   "language": "python",
   "name": "python3"
  },
  "language_info": {
   "codemirror_mode": {
    "name": "ipython",
    "version": 3
   },
   "file_extension": ".py",
   "mimetype": "text/x-python",
   "name": "python",
   "nbconvert_exporter": "python",
   "pygments_lexer": "ipython3",
   "version": "3.4.2"
  }
 },
 "nbformat": 4,
 "nbformat_minor": 2
}
